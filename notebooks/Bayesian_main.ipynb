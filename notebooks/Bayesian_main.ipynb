{
 "cells": [
  {
   "cell_type": "code",
   "execution_count": 53,
   "id": "73c3f9aa-3b98-4af4-b449-ee2b0051a9c8",
   "metadata": {},
   "outputs": [],
   "source": [
    "##### MAIN BAYESIAN OPTIMISATION #######\n",
    "\n",
    "import os\n",
    "import time\n",
    "import numpy as np\n",
    "import yaml\n",
    "import pickle\n",
    "from skopt import gp_minimize\n",
    "from skopt.space import Real, Integer\n",
    "from bash_config import write_bash  # From your file\n",
    "import darkfield.mmmUtils_v2 as mu"
   ]
  },
  {
   "cell_type": "code",
   "execution_count": 54,
   "id": "4f377ec1-327e-4a66-afdf-6f32fb009d6c",
   "metadata": {},
   "outputs": [],
   "source": [
    "def generate_yaml(template_path, output_path, param_value, base_index=1):\n",
    "    with open(template_path) as f:\n",
    "        ip = yaml.safe_load(f)\n",
    "\n",
    "    if param_value == 0:\n",
    "        ip['O2']['in'] = 0\n",
    "    else:\n",
    "        ip['O2']['in'] = 1\n",
    "        ip['O2']['size'] = float(param_value * 1e-6)\n",
    "\n",
    "    filename = f\"BO_{base_index}.yaml\" \n",
    "    fullpath = os.path.join(output_path, filename)\n",
    "    with open(fullpath, 'w') as f_out:\n",
    "        yaml.dump(ip, f_out, sort_keys=False)\n",
    "\n",
    "    return filename, fullpath\n",
    "\n"
   ]
  },
  {
   "cell_type": "code",
   "execution_count": 55,
   "id": "4db9154a-1584-4fd8-8865-e7af1049db5d",
   "metadata": {},
   "outputs": [],
   "source": [
    "def submit_job(yaml_filename, sim_index, n_sim_points=500, n_cpus=24, mem=\"600GB\"):\n",
    "    \n",
    "    bash_dir = \"/home/yu79deg/darkfield_p5438/bash\"\n",
    "    \n",
    "    bash_path = write_bash( path=bash_dir, N=n_sim_points, upd_params={ 'n_cpus': n_cpus, 'mem': mem, 'yaml': yaml_filename } )\n",
    "    \n",
    "    os.system(f\"sbatch {bash_path}\")\n"
   ]
  },
  {
   "cell_type": "code",
   "execution_count": 56,
   "id": "a8e366a4-98d0-4570-b847-f4e2355f61a0",
   "metadata": {},
   "outputs": [],
   "source": [
    "\n",
    "def wait_for_completion(jobname, timeout=3600, check_interval=60):\n",
    "    result_path = f\"/home/yu79deg/darkfield_p5438/Aime/pickles/{jobname}_res.pickle\"\n",
    "    waited = 0\n",
    "    while not os.path.exists(result_path) and waited < timeout:\n",
    "        print(f\"Waiting for job {jobname} to complete...\")\n",
    "        time.sleep(check_interval)\n",
    "        waited += check_interval\n",
    "    if not os.path.exists(result_path):\n",
    "        raise TimeoutError(f\"Job {jobname} did not complete in time.\")\n",
    "    print(result_path)\n",
    "    return result_path\n",
    "\n",
    "\n",
    "\n",
    "def extract_shadow_factor(pickle_path):\n",
    "    #result_data = pickle.load(f)\n",
    "    print(pickle_path)\n",
    "    result_data = mu.loadPickle(pickle_path) #loading the general parameters\n",
    "    params=result_data[1]\n",
    "    Shadow_factor_75 = params['intensities']['roi2'] / params['intensities']['TCC']\n",
    "\n",
    "    return Shadow_factor_75\n"
   ]
  },
  {
   "cell_type": "code",
   "execution_count": 57,
   "id": "e0cfbd80-2460-43ac-9ba6-f55ea837b82a",
   "metadata": {},
   "outputs": [],
   "source": [
    "history = []\n",
    "\n",
    "def objective_function_O2size(O2_value, template_path, output_path, base_index):\n",
    "    yaml_filename, yaml_path = generate_yaml(template_path, output_path, O2_value, base_index)\n",
    "    jobname = os.path.splitext(yaml_filename)[0]\n",
    "\n",
    "    submit_job(yaml_filename, sim_index=base_index, n_sim_points=N_SIM_POINTS)\n",
    "\n",
    "    result_path = wait_for_completion(jobname)\n",
    "    shadow_factor = extract_shadow_factor(result_path)\n",
    "\n",
    "    return -np.log10(shadow_factor)  # Maximize -log10(SF)\n"
   ]
  },
  {
   "cell_type": "code",
   "execution_count": null,
   "id": "caaa0f7c-9869-4b09-bdcd-8d8c695777a2",
   "metadata": {},
   "outputs": [
    {
     "name": "stdout",
     "output_type": "stream",
     "text": [
      "Submitted batch job 3862985\n",
      "Waiting for job BO_1 to complete...\n",
      "Waiting for job BO_1 to complete...\n"
     ]
    }
   ],
   "source": [
    "############# LAUNCH OPITMISATION ##########\n",
    "\n",
    "from skopt import gp_minimize\n",
    "from skopt.space import Real\n",
    "\n",
    "# Define bounds\n",
    "search_space = [Integer(0, 240, name='O2_size')]  # Example range\n",
    "\n",
    "N_SIM_POINTS = 1000 #resolution of the simulations\n",
    "\n",
    "\n",
    "def skopt_wrapper(x):\n",
    "    return objective_function_O2size( O2_value=x[0], template_path='/home/yu79deg/darkfield_p5438/yamls/BO_template.yaml',\n",
    "        output_path='/home/yu79deg/darkfield_p5438/yamls',base_index = len(history) + 1  # unique yaml name\n",
    "    )\n",
    "\n",
    "history = []\n",
    "result = gp_minimize(\n",
    "    skopt_wrapper,\n",
    "    dimensions=search_space,\n",
    "    n_calls=10,\n",
    "    n_initial_points=3,\n",
    "    random_state=42\n",
    ")"
   ]
  },
  {
   "cell_type": "code",
   "execution_count": 35,
   "id": "d6795c0c-7a3e-481a-9eeb-1a103f831a7e",
   "metadata": {},
   "outputs": [],
   "source": [
    "import pandas as pd\n",
    "\n",
    "df = pd.DataFrame({\n",
    "    'O2_size': [x[0] for x in result.x_iters],\n",
    "    'neg_log10_shadow': result.func_vals,\n",
    "})\n",
    "df['shadow_factor'] = 10 ** (-df['neg_log10_shadow'])\n",
    "df.to_csv(\"bayes_opt_results.csv\", index=False)\n"
   ]
  },
  {
   "cell_type": "code",
   "execution_count": null,
   "id": "952280f1-8742-4553-8127-e8875c7e1bba",
   "metadata": {},
   "outputs": [],
   "source": [
    "!squeue --me"
   ]
  },
  {
   "cell_type": "code",
   "execution_count": 51,
   "id": "3cfdfa86-2cc1-48b7-a71b-b7a5e33be70b",
   "metadata": {},
   "outputs": [],
   "source": [
    "!scancel 3862979 3862980 3862981 3862982 3862983 3862984"
   ]
  },
  {
   "cell_type": "code",
   "execution_count": null,
   "id": "c2f5046d-7e4a-4cd4-9861-897ebde9057e",
   "metadata": {},
   "outputs": [],
   "source": []
  }
 ],
 "metadata": {
  "kernelspec": {
   "display_name": "Python 3 (ipykernel)",
   "language": "python",
   "name": "python3"
  },
  "language_info": {
   "codemirror_mode": {
    "name": "ipython",
    "version": 3
   },
   "file_extension": ".py",
   "mimetype": "text/x-python",
   "name": "python",
   "nbconvert_exporter": "python",
   "pygments_lexer": "ipython3",
   "version": "3.12.10"
  }
 },
 "nbformat": 4,
 "nbformat_minor": 5
}
