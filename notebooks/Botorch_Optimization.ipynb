{
 "cells": [
  {
   "cell_type": "markdown",
   "metadata": {},
   "source": "# Bayesian Optimization with BoTorch"
  },
  {
   "cell_type": "code",
   "execution_count": null,
   "metadata": {},
   "outputs": [],
   "source": "import os\nimport time\nimport yaml\nimport pickle\nimport torch\nfrom botorch.models import SingleTaskGP\nfrom botorch.fit import fit_gpytorch_mll\nfrom botorch.acquisition import ExpectedImprovement\nfrom botorch.optim import optimize_acqf\nfrom gpytorch.mlls import ExactMarginalLogLikelihood\n\nfrom bash_config import write_bash  # Provided in repository\nimport darkfield.mmmUtils_v2 as mu\n\nN_SIM_POINTS = 1000\n\n\ndef generate_yaml(template_path, output_path, param_value, base_index=1):\n    with open(template_path) as f:\n        ip = yaml.safe_load(f)\n\n    if param_value == 0:\n        ip['O2']['in'] = 0\n    else:\n        ip['O2']['in'] = 1\n        ip['O2']['size'] = float(param_value * 1e-6)\n\n    filename = f\"BO_{base_index}.yaml\"\n    fullpath = os.path.join(output_path, filename)\n    with open(fullpath, 'w') as f_out:\n        yaml.dump(ip, f_out, sort_keys=False)\n    return filename, fullpath\n\n\ndef submit_job(yaml_filename, sim_index, n_sim_points=N_SIM_POINTS, n_cpus=24, mem='600GB'):\n    bash_dir = '/home/yu79deg/darkfield_p5438/bash'\n    bash_path = write_bash(path=bash_dir, N=n_sim_points, upd_params={'n_cpus': n_cpus, 'mem': mem, 'yaml': yaml_filename})\n    os.system(f'sbatch {bash_path}')\n\n\ndef wait_for_completion(jobname, timeout=3600, check_interval=60):\n    result_path = f'/home/yu79deg/darkfield_p5438/Aime/pickles/{jobname}_res.pickle'\n    waited = 0\n    while not os.path.exists(result_path) and waited < timeout:\n        print(f'Waiting for job {jobname} to complete...')\n        time.sleep(check_interval)\n        waited += check_interval\n    if not os.path.exists(result_path):\n        raise TimeoutError(f'Job {jobname} did not complete in time.')\n    return result_path\n\n\ndef extract_shadow_factor(pickle_path):\n    result_data = mu.loadPickle(pickle_path)\n    params = result_data[1]\n    shadow = params['intensities']['roi2'] / params['intensities']['TCC']\n    return shadow\n\n\ndef objective_function(O2_value, template_path, output_path, base_index):\n    yaml_filename, _ = generate_yaml(template_path, output_path, O2_value, base_index)\n    jobname = os.path.splitext(yaml_filename)[0]\n    submit_job(yaml_filename, sim_index=base_index)\n    result_path = wait_for_completion(jobname)\n    shadow_factor = extract_shadow_factor(result_path)\n    return -torch.log10(torch.tensor([shadow_factor]))\n"
  },
  {
   "cell_type": "code",
   "execution_count": null,
   "metadata": {},
   "outputs": [],
   "source": "bounds = torch.tensor([[0.0], [240.0]])\n\ndef botorch_optimization(n_iters=10, n_init=3):\n    train_x = torch.rand(n_init, 1) * (bounds[1] - bounds[0]) + bounds[0]\n    train_y = torch.vstack([\n        objective_function(x.item(), '/home/yu79deg/darkfield_p5438/yamls/BO_template.yaml', '/home/yu79deg/darkfield_p5438/yamls', i+1)\n        for i, x in enumerate(train_x)\n    ])\n    for iteration in range(n_init, n_iters):\n        model = SingleTaskGP(train_x, train_y)\n        mll = ExactMarginalLogLikelihood(model.likelihood, model)\n        fit_gpytorch_mll(mll)\n        EI = ExpectedImprovement(model, best_f=train_y.max())\n        candidate, _ = optimize_acqf(EI, bounds=bounds.T, q=1, num_restarts=5, raw_samples=20)\n        new_x = candidate.detach()\n        new_y = objective_function(new_x.item(), '/home/yu79deg/darkfield_p5438/yamls/BO_template.yaml', '/home/yu79deg/darkfield_p5438/yamls', iteration+1)\n        train_x = torch.cat([train_x, new_x])\n        train_y = torch.cat([train_y, new_y])\n    return train_x, train_y\n\nresults_x, results_y = botorch_optimization(n_iters=10, n_init=3)\n"
  },
  {
   "cell_type": "code",
   "execution_count": null,
   "metadata": {},
   "outputs": [],
   "source": "import pandas as pd\n\ndf = pd.DataFrame({'O2_size': results_x.squeeze().numpy(), 'neg_log10_shadow': results_y.squeeze().numpy()})\ndf['shadow_factor'] = 10 ** (-df['neg_log10_shadow'])\ndf.to_csv('botorch_results.csv', index=False)\n"
  }
 ],
 "metadata": {
  "kernelspec": {
   "display_name": "Python 3",
   "language": "python",
   "name": "python3"
  },
  "language_info": {
   "name": "python",
   "pygments_lexer": "ipython3"
  }
 },
 "nbformat": 4,
 "nbformat_minor": 5
}
