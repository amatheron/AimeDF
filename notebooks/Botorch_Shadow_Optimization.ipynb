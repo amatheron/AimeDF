{
 "cells": [
  {
   "cell_type": "markdown",
   "metadata": {},
   "source": "## Single-parameter optimization with BoTorch\nThis notebook illustrates how to minimize the shadow factor using BoTorch."
  },
  {
   "cell_type": "code",
   "metadata": {},
   "source": [
    "import torch\n",
    "from botorch.models import SingleTaskGP\n",
    "from botorch.models.transforms import Normalize, Standardize\n",
    "from botorch.fit import fit_gpytorch_mll\n",
    "from gpytorch.mlls import ExactMarginalLogLikelihood\n",
    "from botorch.acquisition import LogExpectedImprovement\n",
    "from botorch.optim import optimize_acqf\n"
   ],
   "execution_count": null,
   "outputs": []
  },
  {
   "cell_type": "code",
   "metadata": {},
   "source": [
    "def run_simulation(o2_size: float) -> torch.Tensor:\n",
    "    # Placeholder simulation returning a very small shadow factor\n",
    "    noise = 1e-11 * torch.randn(1)\n",
    "    shadow = (o2_size - 0.5)**2 + 1e-10 + noise\n",
    "    return shadow\n"
   ],
   "execution_count": null,
   "outputs": []
  },
  {
   "cell_type": "code",
   "metadata": {},
   "source": [
    "torch.manual_seed(0)\n",
    "train_X = torch.rand(5, 1, dtype=torch.double)\n",
    "train_Y = torch.stack([run_simulation(x.item()) for x in train_X]).unsqueeze(-1)\n"
   ],
   "execution_count": null,
   "outputs": []
  },
  {
   "cell_type": "code",
   "metadata": {},
   "source": [
    "bounds = torch.stack([torch.zeros(1), torch.ones(1)]).double()\n",
    "for i in range(5):\n",
    "    gp = SingleTaskGP(train_X, -train_Y, input_transform=Normalize(d=1), outcome_transform=Standardize(m=1))\n",
    "    mll = ExactMarginalLogLikelihood(gp.likelihood, gp)\n",
    "    fit_gpytorch_mll(mll)\n",
    "    acq = LogExpectedImprovement(gp, best_f=(-train_Y).max())\n",
    "    candidate, _ = optimize_acqf(acq, bounds=bounds, q=1, num_restarts=5, raw_samples=20)\n",
    "    new_y = run_simulation(candidate.item())\n",
    "    train_X = torch.cat([train_X, candidate])\n",
    "    train_Y = torch.cat([train_Y, new_y.unsqueeze(-1)])\n"
   ],
   "execution_count": null,
   "outputs": []
  },
  {
   "cell_type": "code",
   "metadata": {},
   "source": [
    "best_value, best_idx = train_Y.min(dim=0)\n",
    "print(f'Best aperture size: {train_X[best_idx].item():.4f}, shadow factor: {best_value.item():.2e}')\n"
   ],
   "execution_count": null,
   "outputs": []
  }
 ],
 "metadata": {
  "kernelspec": {
   "display_name": "Python 3",
   "language": "python",
   "name": "python3"
  },
  "language_info": {
   "name": "python",
   "version": "3.10"
  }
 },
 "nbformat": 4,
 "nbformat_minor": 5
}
