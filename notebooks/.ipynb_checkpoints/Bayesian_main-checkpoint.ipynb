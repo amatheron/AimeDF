{
 "cells": [
  {
   "cell_type": "code",
   "execution_count": 5,
   "id": "73c3f9aa-3b98-4af4-b449-ee2b0051a9c8",
   "metadata": {},
   "outputs": [],
   "source": [
    "##### MAIN BAYESIAN OPTIMISATION #######\n",
    "\n",
    "import os\n",
    "import time\n",
    "import numpy as np\n",
    "import yaml\n",
    "import pickle\n",
    "from skopt import gp_minimize\n",
    "from skopt.space import Real, Integer\n",
    "from bash_config import write_bash  # From your file"
   ]
  },
  {
   "cell_type": "code",
   "execution_count": 6,
   "id": "4f377ec1-327e-4a66-afdf-6f32fb009d6c",
   "metadata": {},
   "outputs": [],
   "source": [
    "def generate_yaml(template_path, output_path, param_value, base_index=1):\n",
    "    with open(template_path) as f:\n",
    "        ip = yaml.safe_load(f)\n",
    "\n",
    "    if param_value == 0:\n",
    "        ip['O2']['in'] = 0\n",
    "    else:\n",
    "        ip['O2']['in'] = 1\n",
    "        ip['O2']['size'] = float(param_value * 1e-6)\n",
    "\n",
    "    filename = f\"BO_{base_index}.yaml\" \n",
    "    fullpath = os.path.join(output_path, filename)\n",
    "    with open(fullpath, 'w') as f_out:\n",
    "        yaml.dump(ip, f_out, sort_keys=False)\n",
    "\n",
    "    return filename, fullpath\n",
    "\n"
   ]
  },
  {
   "cell_type": "code",
   "execution_count": 7,
   "id": "4db9154a-1584-4fd8-8865-e7af1049db5d",
   "metadata": {},
   "outputs": [],
   "source": [
    "def submit_job(yaml_filename, job_index, n_cpus=24, mem=\"600GB\"):\n",
    "    bash_dir = \"/home/yu79deg/darkfield_p5438/bash\"\n",
    "    bash_path = write_bash(\n",
    "        path=bash_dir,\n",
    "        N=job_index,\n",
    "        upd_params={'n_cpus': n_cpus, 'mem': mem, 'yaml': yaml_filename}\n",
    "    )\n",
    "    #os.system(f\"sbatch {bash_path}\")\n"
   ]
  },
  {
   "cell_type": "code",
   "execution_count": 8,
   "id": "a8e366a4-98d0-4570-b847-f4e2355f61a0",
   "metadata": {},
   "outputs": [],
   "source": [
    "def wait_for_completion(jobname, timeout=3600, check_interval=60):\n",
    "    result_path = f\"/home/yu79deg/darkfield_p5438/Aime/pickles/{jobname}_res.pickle\"\n",
    "    waited = 0\n",
    "    while not os.path.exists(result_path) and waited < timeout:\n",
    "        print(f\"Waiting for job {jobname} to complete...\")\n",
    "        time.sleep(check_interval)\n",
    "        waited += check_interval\n",
    "    if not os.path.exists(result_path):\n",
    "        raise TimeoutError(f\"Job {jobname} did not complete in time.\")\n",
    "    return result_path\n",
    "\n",
    "\n",
    "\n",
    "def extract_shadow_factor(pickle_path):\n",
    "    with open(pickle_path, 'rb') as f:\n",
    "        result_data = pickle.load(f)\n",
    "    \n",
    "    # Adjust this line if needed, based on the structure of the pickle\n",
    "    return result_data['shadow_factor']\n"
   ]
  },
  {
   "cell_type": "code",
   "execution_count": 9,
   "id": "e0cfbd80-2460-43ac-9ba6-f55ea837b82a",
   "metadata": {},
   "outputs": [],
   "source": [
    "history = []\n",
    "\n",
    "def objective_function_O2size(O2_value, template_path, output_path, base_index):\n",
    "    yaml_filename, yaml_path = generate_yaml(template_path, output_path, O2_value, base_index)\n",
    "    jobname = os.path.splitext(yaml_filename)[0]\n",
    "\n",
    "    submit_job(yaml_filename, base_index)\n",
    "\n",
    "    result_path = wait_for_completion(jobname)\n",
    "    shadow_factor = extract_shadow_factor(result_path)\n",
    "\n",
    "    return -np.log10(shadow_factor)  # Maximize -log10(SF)\n"
   ]
  },
  {
   "cell_type": "code",
   "execution_count": 10,
   "id": "caaa0f7c-9869-4b09-bdcd-8d8c695777a2",
   "metadata": {
    "scrolled": true
   },
   "outputs": [
    {
     "name": "stdout",
     "output_type": "stream",
     "text": [
      "Waiting for job BO_100 to complete...\n"
     ]
    },
    {
     "ename": "KeyboardInterrupt",
     "evalue": "",
     "output_type": "error",
     "traceback": [
      "\u001b[31m---------------------------------------------------------------------------\u001b[39m",
      "\u001b[31mKeyboardInterrupt\u001b[39m                         Traceback (most recent call last)",
      "\u001b[36mCell\u001b[39m\u001b[36m \u001b[39m\u001b[32mIn[10]\u001b[39m\u001b[32m, line 16\u001b[39m\n\u001b[32m     11\u001b[39m     \u001b[38;5;28;01mreturn\u001b[39;00m objective_function_O2size( O2_value=x[\u001b[32m0\u001b[39m], template_path=\u001b[33m'\u001b[39m\u001b[33m/home/yu79deg/darkfield_p5438/yamls/BO_template.yaml\u001b[39m\u001b[33m'\u001b[39m,\n\u001b[32m     12\u001b[39m         output_path=\u001b[33m'\u001b[39m\u001b[33m/home/yu79deg/darkfield_p5438/yamls\u001b[39m\u001b[33m'\u001b[39m,base_index=\u001b[32m100\u001b[39m + \u001b[38;5;28mlen\u001b[39m(history)  \u001b[38;5;66;03m# unique yaml name\u001b[39;00m\n\u001b[32m     13\u001b[39m     )\n\u001b[32m     15\u001b[39m history = []\n\u001b[32m---> \u001b[39m\u001b[32m16\u001b[39m result = \u001b[43mgp_minimize\u001b[49m\u001b[43m(\u001b[49m\n\u001b[32m     17\u001b[39m \u001b[43m    \u001b[49m\u001b[43mskopt_wrapper\u001b[49m\u001b[43m,\u001b[49m\n\u001b[32m     18\u001b[39m \u001b[43m    \u001b[49m\u001b[43mdimensions\u001b[49m\u001b[43m=\u001b[49m\u001b[43msearch_space\u001b[49m\u001b[43m,\u001b[49m\n\u001b[32m     19\u001b[39m \u001b[43m    \u001b[49m\u001b[43mn_calls\u001b[49m\u001b[43m=\u001b[49m\u001b[32;43m10\u001b[39;49m\u001b[43m,\u001b[49m\n\u001b[32m     20\u001b[39m \u001b[43m    \u001b[49m\u001b[43mn_initial_points\u001b[49m\u001b[43m=\u001b[49m\u001b[32;43m3\u001b[39;49m\u001b[43m,\u001b[49m\n\u001b[32m     21\u001b[39m \u001b[43m    \u001b[49m\u001b[43mrandom_state\u001b[49m\u001b[43m=\u001b[49m\u001b[32;43m42\u001b[39;49m\n\u001b[32m     22\u001b[39m \u001b[43m)\u001b[49m\n",
      "\u001b[36mFile \u001b[39m\u001b[32m~/micromamba/envs/darkfield/lib/python3.12/site-packages/skopt/optimizer/gp.py:281\u001b[39m, in \u001b[36mgp_minimize\u001b[39m\u001b[34m(func, dimensions, base_estimator, n_calls, n_random_starts, n_initial_points, initial_point_generator, acq_func, acq_optimizer, x0, y0, random_state, verbose, callback, n_points, n_restarts_optimizer, xi, kappa, noise, n_jobs, model_queue_size, space_constraint)\u001b[39m\n\u001b[32m    273\u001b[39m \u001b[38;5;28;01mif\u001b[39;00m base_estimator \u001b[38;5;129;01mis\u001b[39;00m \u001b[38;5;28;01mNone\u001b[39;00m:\n\u001b[32m    274\u001b[39m     base_estimator = cook_estimator(\n\u001b[32m    275\u001b[39m         \u001b[33m\"\u001b[39m\u001b[33mGP\u001b[39m\u001b[33m\"\u001b[39m,\n\u001b[32m    276\u001b[39m         space=space,\n\u001b[32m    277\u001b[39m         random_state=rng.randint(\u001b[32m0\u001b[39m, np.iinfo(np.int32).max),\n\u001b[32m    278\u001b[39m         noise=noise,\n\u001b[32m    279\u001b[39m     )\n\u001b[32m--> \u001b[39m\u001b[32m281\u001b[39m \u001b[38;5;28;01mreturn\u001b[39;00m \u001b[43mbase_minimize\u001b[49m\u001b[43m(\u001b[49m\n\u001b[32m    282\u001b[39m \u001b[43m    \u001b[49m\u001b[43mfunc\u001b[49m\u001b[43m,\u001b[49m\n\u001b[32m    283\u001b[39m \u001b[43m    \u001b[49m\u001b[43mspace\u001b[49m\u001b[43m,\u001b[49m\n\u001b[32m    284\u001b[39m \u001b[43m    \u001b[49m\u001b[43mbase_estimator\u001b[49m\u001b[43m=\u001b[49m\u001b[43mbase_estimator\u001b[49m\u001b[43m,\u001b[49m\n\u001b[32m    285\u001b[39m \u001b[43m    \u001b[49m\u001b[43macq_func\u001b[49m\u001b[43m=\u001b[49m\u001b[43macq_func\u001b[49m\u001b[43m,\u001b[49m\n\u001b[32m    286\u001b[39m \u001b[43m    \u001b[49m\u001b[43mxi\u001b[49m\u001b[43m=\u001b[49m\u001b[43mxi\u001b[49m\u001b[43m,\u001b[49m\n\u001b[32m    287\u001b[39m \u001b[43m    \u001b[49m\u001b[43mkappa\u001b[49m\u001b[43m=\u001b[49m\u001b[43mkappa\u001b[49m\u001b[43m,\u001b[49m\n\u001b[32m    288\u001b[39m \u001b[43m    \u001b[49m\u001b[43macq_optimizer\u001b[49m\u001b[43m=\u001b[49m\u001b[43macq_optimizer\u001b[49m\u001b[43m,\u001b[49m\n\u001b[32m    289\u001b[39m \u001b[43m    \u001b[49m\u001b[43mn_calls\u001b[49m\u001b[43m=\u001b[49m\u001b[43mn_calls\u001b[49m\u001b[43m,\u001b[49m\n\u001b[32m    290\u001b[39m \u001b[43m    \u001b[49m\u001b[43mn_points\u001b[49m\u001b[43m=\u001b[49m\u001b[43mn_points\u001b[49m\u001b[43m,\u001b[49m\n\u001b[32m    291\u001b[39m \u001b[43m    \u001b[49m\u001b[43mn_random_starts\u001b[49m\u001b[43m=\u001b[49m\u001b[43mn_random_starts\u001b[49m\u001b[43m,\u001b[49m\n\u001b[32m    292\u001b[39m \u001b[43m    \u001b[49m\u001b[43mn_initial_points\u001b[49m\u001b[43m=\u001b[49m\u001b[43mn_initial_points\u001b[49m\u001b[43m,\u001b[49m\n\u001b[32m    293\u001b[39m \u001b[43m    \u001b[49m\u001b[43minitial_point_generator\u001b[49m\u001b[43m=\u001b[49m\u001b[43minitial_point_generator\u001b[49m\u001b[43m,\u001b[49m\n\u001b[32m    294\u001b[39m \u001b[43m    \u001b[49m\u001b[43mn_restarts_optimizer\u001b[49m\u001b[43m=\u001b[49m\u001b[43mn_restarts_optimizer\u001b[49m\u001b[43m,\u001b[49m\n\u001b[32m    295\u001b[39m \u001b[43m    \u001b[49m\u001b[43mx0\u001b[49m\u001b[43m=\u001b[49m\u001b[43mx0\u001b[49m\u001b[43m,\u001b[49m\n\u001b[32m    296\u001b[39m \u001b[43m    \u001b[49m\u001b[43my0\u001b[49m\u001b[43m=\u001b[49m\u001b[43my0\u001b[49m\u001b[43m,\u001b[49m\n\u001b[32m    297\u001b[39m \u001b[43m    \u001b[49m\u001b[43mrandom_state\u001b[49m\u001b[43m=\u001b[49m\u001b[43mrng\u001b[49m\u001b[43m,\u001b[49m\n\u001b[32m    298\u001b[39m \u001b[43m    \u001b[49m\u001b[43mverbose\u001b[49m\u001b[43m=\u001b[49m\u001b[43mverbose\u001b[49m\u001b[43m,\u001b[49m\n\u001b[32m    299\u001b[39m \u001b[43m    \u001b[49m\u001b[43mspace_constraint\u001b[49m\u001b[43m=\u001b[49m\u001b[43mspace_constraint\u001b[49m\u001b[43m,\u001b[49m\n\u001b[32m    300\u001b[39m \u001b[43m    \u001b[49m\u001b[43mcallback\u001b[49m\u001b[43m=\u001b[49m\u001b[43mcallback\u001b[49m\u001b[43m,\u001b[49m\n\u001b[32m    301\u001b[39m \u001b[43m    \u001b[49m\u001b[43mn_jobs\u001b[49m\u001b[43m=\u001b[49m\u001b[43mn_jobs\u001b[49m\u001b[43m,\u001b[49m\n\u001b[32m    302\u001b[39m \u001b[43m    \u001b[49m\u001b[43mmodel_queue_size\u001b[49m\u001b[43m=\u001b[49m\u001b[43mmodel_queue_size\u001b[49m\u001b[43m,\u001b[49m\n\u001b[32m    303\u001b[39m \u001b[43m\u001b[49m\u001b[43m)\u001b[49m\n",
      "\u001b[36mFile \u001b[39m\u001b[32m~/micromamba/envs/darkfield/lib/python3.12/site-packages/skopt/optimizer/base.py:332\u001b[39m, in \u001b[36mbase_minimize\u001b[39m\u001b[34m(func, dimensions, base_estimator, n_calls, n_random_starts, n_initial_points, initial_point_generator, acq_func, acq_optimizer, x0, y0, random_state, verbose, callback, n_points, n_restarts_optimizer, xi, kappa, n_jobs, model_queue_size, space_constraint)\u001b[39m\n\u001b[32m    330\u001b[39m \u001b[38;5;28;01mfor\u001b[39;00m _ \u001b[38;5;129;01min\u001b[39;00m \u001b[38;5;28mrange\u001b[39m(n_calls):\n\u001b[32m    331\u001b[39m     next_x = optimizer.ask()\n\u001b[32m--> \u001b[39m\u001b[32m332\u001b[39m     next_y = \u001b[43mfunc\u001b[49m\u001b[43m(\u001b[49m\u001b[43mnext_x\u001b[49m\u001b[43m)\u001b[49m\n\u001b[32m    333\u001b[39m     result = optimizer.tell(next_x, next_y)\n\u001b[32m    334\u001b[39m     result.specs = specs\n",
      "\u001b[36mCell\u001b[39m\u001b[36m \u001b[39m\u001b[32mIn[10]\u001b[39m\u001b[32m, line 11\u001b[39m, in \u001b[36mskopt_wrapper\u001b[39m\u001b[34m(x)\u001b[39m\n\u001b[32m     10\u001b[39m \u001b[38;5;28;01mdef\u001b[39;00m\u001b[38;5;250m \u001b[39m\u001b[34mskopt_wrapper\u001b[39m(x):\n\u001b[32m---> \u001b[39m\u001b[32m11\u001b[39m     \u001b[38;5;28;01mreturn\u001b[39;00m \u001b[43mobjective_function_O2size\u001b[49m\u001b[43m(\u001b[49m\u001b[43m \u001b[49m\u001b[43mO2_value\u001b[49m\u001b[43m=\u001b[49m\u001b[43mx\u001b[49m\u001b[43m[\u001b[49m\u001b[32;43m0\u001b[39;49m\u001b[43m]\u001b[49m\u001b[43m,\u001b[49m\u001b[43m \u001b[49m\u001b[43mtemplate_path\u001b[49m\u001b[43m=\u001b[49m\u001b[33;43m'\u001b[39;49m\u001b[33;43m/home/yu79deg/darkfield_p5438/yamls/BO_template.yaml\u001b[39;49m\u001b[33;43m'\u001b[39;49m\u001b[43m,\u001b[49m\n\u001b[32m     12\u001b[39m \u001b[43m        \u001b[49m\u001b[43moutput_path\u001b[49m\u001b[43m=\u001b[49m\u001b[33;43m'\u001b[39;49m\u001b[33;43m/home/yu79deg/darkfield_p5438/yamls\u001b[39;49m\u001b[33;43m'\u001b[39;49m\u001b[43m,\u001b[49m\u001b[43mbase_index\u001b[49m\u001b[43m=\u001b[49m\u001b[32;43m100\u001b[39;49m\u001b[43m \u001b[49m\u001b[43m+\u001b[49m\u001b[43m \u001b[49m\u001b[38;5;28;43mlen\u001b[39;49m\u001b[43m(\u001b[49m\u001b[43mhistory\u001b[49m\u001b[43m)\u001b[49m\u001b[43m  \u001b[49m\u001b[38;5;66;43;03m# unique yaml name\u001b[39;49;00m\n\u001b[32m     13\u001b[39m \u001b[43m    \u001b[49m\u001b[43m)\u001b[49m\n",
      "\u001b[36mCell\u001b[39m\u001b[36m \u001b[39m\u001b[32mIn[9]\u001b[39m\u001b[32m, line 9\u001b[39m, in \u001b[36mobjective_function_O2size\u001b[39m\u001b[34m(O2_value, template_path, output_path, base_index)\u001b[39m\n\u001b[32m      5\u001b[39m jobname = os.path.splitext(yaml_filename)[\u001b[32m0\u001b[39m]\n\u001b[32m      7\u001b[39m submit_job(yaml_filename, base_index)\n\u001b[32m----> \u001b[39m\u001b[32m9\u001b[39m result_path = \u001b[43mwait_for_completion\u001b[49m\u001b[43m(\u001b[49m\u001b[43mjobname\u001b[49m\u001b[43m)\u001b[49m\n\u001b[32m     10\u001b[39m shadow_factor = extract_shadow_factor(result_path)\n\u001b[32m     12\u001b[39m \u001b[38;5;28;01mreturn\u001b[39;00m -np.log10(shadow_factor)\n",
      "\u001b[36mCell\u001b[39m\u001b[36m \u001b[39m\u001b[32mIn[8]\u001b[39m\u001b[32m, line 6\u001b[39m, in \u001b[36mwait_for_completion\u001b[39m\u001b[34m(jobname, timeout, check_interval)\u001b[39m\n\u001b[32m      4\u001b[39m \u001b[38;5;28;01mwhile\u001b[39;00m \u001b[38;5;129;01mnot\u001b[39;00m os.path.exists(result_path) \u001b[38;5;129;01mand\u001b[39;00m waited < timeout:\n\u001b[32m      5\u001b[39m     \u001b[38;5;28mprint\u001b[39m(\u001b[33mf\u001b[39m\u001b[33m\"\u001b[39m\u001b[33mWaiting for job \u001b[39m\u001b[38;5;132;01m{\u001b[39;00mjobname\u001b[38;5;132;01m}\u001b[39;00m\u001b[33m to complete...\u001b[39m\u001b[33m\"\u001b[39m)\n\u001b[32m----> \u001b[39m\u001b[32m6\u001b[39m     \u001b[43mtime\u001b[49m\u001b[43m.\u001b[49m\u001b[43msleep\u001b[49m\u001b[43m(\u001b[49m\u001b[43mcheck_interval\u001b[49m\u001b[43m)\u001b[49m\n\u001b[32m      7\u001b[39m     waited += check_interval\n\u001b[32m      8\u001b[39m \u001b[38;5;28;01mif\u001b[39;00m \u001b[38;5;129;01mnot\u001b[39;00m os.path.exists(result_path):\n",
      "\u001b[31mKeyboardInterrupt\u001b[39m: "
     ]
    }
   ],
   "source": [
    "############# LAUNCH OPITMISATION ##########\n",
    "\n",
    "from skopt import gp_minimize\n",
    "from skopt.space import Real\n",
    "\n",
    "# Define bounds\n",
    "search_space = [Integer(0, 240, name='O2_size')]  # Example range\n",
    "\n",
    "\n",
    "def skopt_wrapper(x):\n",
    "    return objective_function_O2size( O2_value=x[0], template_path='/home/yu79deg/darkfield_p5438/yamls/BO_template.yaml',\n",
    "        output_path='/home/yu79deg/darkfield_p5438/yamls',base_index=100 + len(history)  # unique yaml name\n",
    "    )\n",
    "\n",
    "history = []\n",
    "result = gp_minimize(\n",
    "    skopt_wrapper,\n",
    "    dimensions=search_space,\n",
    "    n_calls=10,\n",
    "    n_initial_points=3,\n",
    "    random_state=42\n",
    ")"
   ]
  },
  {
   "cell_type": "code",
   "execution_count": null,
   "id": "d6795c0c-7a3e-481a-9eeb-1a103f831a7e",
   "metadata": {},
   "outputs": [],
   "source": [
    "import pandas as pd\n",
    "\n",
    "df = pd.DataFrame({\n",
    "    'O2_size': [x[0] for x in result.x_iters],\n",
    "    'neg_log10_shadow': result.func_vals,\n",
    "})\n",
    "df['shadow_factor'] = 10 ** (-df['neg_log10_shadow'])\n",
    "df.to_csv(\"bayes_opt_results.csv\", index=False)\n"
   ]
  }
 ],
 "metadata": {
  "kernelspec": {
   "display_name": "Python 3 (ipykernel)",
   "language": "python",
   "name": "python3"
  },
  "language_info": {
   "codemirror_mode": {
    "name": "ipython",
    "version": 3
   },
   "file_extension": ".py",
   "mimetype": "text/x-python",
   "name": "python",
   "nbconvert_exporter": "python",
   "pygments_lexer": "ipython3",
   "version": "3.12.10"
  }
 },
 "nbformat": 4,
 "nbformat_minor": 5
}
